{
 "cells": [
  {
   "cell_type": "code",
   "execution_count": 16,
   "id": "5207de1a",
   "metadata": {},
   "outputs": [
    {
     "name": "stdout",
     "output_type": "stream",
     "text": [
      "Collecting config\n",
      "  Downloading config-0.5.1-py2.py3-none-any.whl (20 kB)\n",
      "Installing collected packages: config\n",
      "Successfully installed config-0.5.1\n"
     ]
    }
   ],
   "source": [
    "!pip install config"
   ]
  },
  {
   "cell_type": "code",
   "execution_count": 19,
   "id": "dc38cc08",
   "metadata": {},
   "outputs": [],
   "source": [
    "import wandb\n",
    "import config"
   ]
  },
  {
   "cell_type": "code",
   "execution_count": 21,
   "id": "52dd60dc",
   "metadata": {},
   "outputs": [],
   "source": [
    "wandb.config = {\n",
    "  \"learning_rate\": 0.001,\n",
    "  \"epochs\": 5,\n",
    "  \"batch_size\": 32\n",
    "}\n",
    "\n",
    "# ... Define a model"
   ]
  },
  {
   "cell_type": "code",
   "execution_count": 22,
   "id": "428f2655",
   "metadata": {},
   "outputs": [
    {
     "data": {
      "text/html": [
       "Finishing last run (ID:38nu9izj) before initializing another..."
      ],
      "text/plain": [
       "<IPython.core.display.HTML object>"
      ]
     },
     "metadata": {},
     "output_type": "display_data"
    },
    {
     "data": {
      "text/html": [
       "Waiting for W&B process to finish... <strong style=\"color:green\">(success).</strong>"
      ],
      "text/plain": [
       "<IPython.core.display.HTML object>"
      ]
     },
     "metadata": {},
     "output_type": "display_data"
    },
    {
     "data": {
      "application/vnd.jupyter.widget-view+json": {
       "model_id": "",
       "version_major": 2,
       "version_minor": 0
      },
      "text/plain": [
       "VBox(children=(Label(value='0.002 MB of 0.002 MB uploaded (0.000 MB deduped)\\r'), FloatProgress(value=1.0, max…"
      ]
     },
     "metadata": {},
     "output_type": "display_data"
    },
    {
     "data": {
      "text/html": [
       "Synced <strong style=\"color:#cdcd00\">sith-council-1</strong>: <a href=\"https://wandb.ai/techfood/my-test-project/runs/38nu9izj\" target=\"_blank\">https://wandb.ai/techfood/my-test-project/runs/38nu9izj</a><br/>Synced 5 W&B file(s), 1 media file(s), 0 artifact file(s) and 0 other file(s)"
      ],
      "text/plain": [
       "<IPython.core.display.HTML object>"
      ]
     },
     "metadata": {},
     "output_type": "display_data"
    },
    {
     "data": {
      "text/html": [
       "Find logs at: <code>.\\wandb\\run-20220505_080652-38nu9izj\\logs</code>"
      ],
      "text/plain": [
       "<IPython.core.display.HTML object>"
      ]
     },
     "metadata": {},
     "output_type": "display_data"
    },
    {
     "data": {
      "text/html": [
       "Successfully finished last run (ID:38nu9izj). Initializing new run:<br/>"
      ],
      "text/plain": [
       "<IPython.core.display.HTML object>"
      ]
     },
     "metadata": {},
     "output_type": "display_data"
    },
    {
     "data": {
      "text/html": [
       "Tracking run with wandb version 0.12.16"
      ],
      "text/plain": [
       "<IPython.core.display.HTML object>"
      ]
     },
     "metadata": {},
     "output_type": "display_data"
    },
    {
     "data": {
      "text/html": [
       "Run data is saved locally in <code>C:\\Users\\Muhammad\\Desktop\\Artificial Intelligence\\Project\\Project#2 BrainTumorClassification with MRI\\wandb\\run-20220505_082329-3uofhx0b</code>"
      ],
      "text/plain": [
       "<IPython.core.display.HTML object>"
      ]
     },
     "metadata": {},
     "output_type": "display_data"
    },
    {
     "data": {
      "text/html": [
       "Syncing run <strong><a href=\"https://wandb.ai/techfood/uncategorized/runs/3uofhx0b\" target=\"_blank\">galactic-transport-1</a></strong> to <a href=\"https://wandb.ai/techfood/uncategorized\" target=\"_blank\">Weights & Biases</a> (<a href=\"https://wandb.me/run\" target=\"_blank\">docs</a>)<br/>"
      ],
      "text/plain": [
       "<IPython.core.display.HTML object>"
      ]
     },
     "metadata": {},
     "output_type": "display_data"
    }
   ],
   "source": [
    "run = wandb.init(config=wandb.config)\n",
    "cfg = run.config"
   ]
  },
  {
   "cell_type": "code",
   "execution_count": 23,
   "id": "de60f9db",
   "metadata": {},
   "outputs": [],
   "source": [
    "# Import libraries\n",
    "import tensorflow as tf\n",
    "import os\n",
    "\n",
    "from matplotlib import pyplot as plt\n",
    "import numpy as np\n",
    "from tensorflow.keras.preprocessing import image\n",
    "import cv2\n",
    "\n",
    "from tensorflow.keras.models import Sequential\n",
    "from tensorflow.keras.layers import Conv2D,Dense,Flatten,MaxPooling2D\n",
    "\n",
    "from tensorflow.keras.preprocessing.image import ImageDataGenerator"
   ]
  },
  {
   "cell_type": "code",
   "execution_count": 24,
   "id": "8f70323a",
   "metadata": {},
   "outputs": [
    {
     "name": "stdout",
     "output_type": "stream",
     "text": [
      "Found 2600 images belonging to 2 classes.\n",
      "Found 400 images belonging to 2 classes.\n"
     ]
    }
   ],
   "source": [
    "train_datagen = ImageDataGenerator(\n",
    "        rescale=1./255,\n",
    "        shear_range=0.2,\n",
    "        zoom_range=0.2,\n",
    "        horizontal_flip=True)\n",
    "\n",
    "test_datagen = ImageDataGenerator(rescale=1./256)\n",
    "\n",
    "train_generator = train_datagen.flow_from_directory(\n",
    "        'data/training',\n",
    "        target_size=(256, 256),\n",
    "        batch_size=32,\n",
    "        class_mode='binary')\n",
    "\n",
    "validation_generator = test_datagen.flow_from_directory(\n",
    "        'data/test',\n",
    "        target_size=(256, 256),\n",
    "        batch_size=32,\n",
    "        class_mode='binary')"
   ]
  },
  {
   "cell_type": "code",
   "execution_count": 25,
   "id": "78c1c57d",
   "metadata": {},
   "outputs": [],
   "source": [
    "# Defining Network\n",
    "model = Sequential()\n",
    "\n",
    "# creating layers\n",
    "model.add(Conv2D(16,1,activation='relu',input_shape=(256,256,3)))\n",
    "model.add(MaxPooling2D())\n",
    "\n",
    "model.add(Conv2D(30,1,activation='relu'))\n",
    "model.add(MaxPooling2D())\n",
    "\n",
    "model.add(Conv2D(20,1,activation='relu'))\n",
    "model.add(MaxPooling2D())\n",
    "\n",
    "model.add(Flatten())\n",
    "model.add(Dense(250,activation='relu'))\n",
    "model.add(Dense(1,activation='sigmoid'))"
   ]
  },
  {
   "cell_type": "code",
   "execution_count": 26,
   "id": "d89e7339",
   "metadata": {},
   "outputs": [],
   "source": [
    "model.compile('adam',loss=tf.losses.BinaryCrossentropy(),metrics=['accuracy'])"
   ]
  },
  {
   "cell_type": "code",
   "execution_count": 31,
   "id": "17c56d42",
   "metadata": {},
   "outputs": [],
   "source": [
    "callback = wandb.keras.WandbCallback(input_type='image',validation_data=validation_generator)"
   ]
  },
  {
   "cell_type": "code",
   "execution_count": 34,
   "id": "0a89def7",
   "metadata": {},
   "outputs": [
    {
     "name": "stdout",
     "output_type": "stream",
     "text": [
      "Epoch 1/5\n",
      "82/82 [==============================] - 168s 2s/step - loss: 0.5699 - accuracy: 0.7027 - val_loss: 0.5846 - val_accuracy: 0.7275 - _timestamp: 1651722447.0000 - _runtime: 1402.0000\n",
      "Epoch 2/5\n",
      "82/82 [==============================] - 173s 2s/step - loss: 0.5433 - accuracy: 0.7238 - val_loss: 0.5218 - val_accuracy: 0.7275 - _timestamp: 1651722617.0000 - _runtime: 1572.0000\n",
      "Epoch 3/5\n",
      "82/82 [==============================] - 168s 2s/step - loss: 0.5036 - accuracy: 0.7573 - val_loss: 0.4976 - val_accuracy: 0.7600 - _timestamp: 1651722787.0000 - _runtime: 1742.0000\n",
      "Epoch 4/5\n",
      "82/82 [==============================] - 165s 2s/step - loss: 0.4835 - accuracy: 0.7708 - val_loss: 0.6481 - val_accuracy: 0.6700 - _timestamp: 1651722987.0000 - _runtime: 1942.0000\n",
      "Epoch 5/5\n",
      "82/82 [==============================] - 173s 2s/step - loss: 0.4577 - accuracy: 0.7858 - val_loss: 0.4838 - val_accuracy: 0.7525 - _timestamp: 1651723197.0000 - _runtime: 2152.0000\n"
     ]
    },
    {
     "data": {
      "text/plain": [
       "<keras.callbacks.History at 0x22e36019300>"
      ]
     },
     "execution_count": 34,
     "metadata": {},
     "output_type": "execute_result"
    },
    {
     "name": "stderr",
     "output_type": "stream",
     "text": [
      "\u001b[34m\u001b[1mwandb\u001b[0m: Network error resolved after 0:00:01.344423, resuming normal operation.\n"
     ]
    }
   ],
   "source": [
    "model.fit(train_generator, validation_data=validation_generator, epochs=5, callbacks=[WandbCallback(input_type='image',validation_data=validation_generator)])"
   ]
  },
  {
   "cell_type": "code",
   "execution_count": null,
   "id": "b793185e",
   "metadata": {},
   "outputs": [],
   "source": []
  }
 ],
 "metadata": {
  "kernelspec": {
   "display_name": "Python 3 (ipykernel)",
   "language": "python",
   "name": "python3"
  },
  "language_info": {
   "codemirror_mode": {
    "name": "ipython",
    "version": 3
   },
   "file_extension": ".py",
   "mimetype": "text/x-python",
   "name": "python",
   "nbconvert_exporter": "python",
   "pygments_lexer": "ipython3",
   "version": "3.10.2"
  }
 },
 "nbformat": 4,
 "nbformat_minor": 5
}

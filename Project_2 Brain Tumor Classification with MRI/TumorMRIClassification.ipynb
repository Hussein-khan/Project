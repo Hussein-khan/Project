{
 "cells": [
  {
   "cell_type": "markdown",
   "metadata": {},
   "source": [
    "# Tumor MRI Classification"
   ]
  },
  {
   "cell_type": "markdown",
   "metadata": {},
   "source": [
    "Step 1- Importing Dependencies"
   ]
  },
  {
   "cell_type": "code",
   "execution_count": 1,
   "metadata": {},
   "outputs": [],
   "source": [
    "# Import libraries\n",
    "import tensorflow as tf\n",
    "import os\n",
    "\n",
    "from matplotlib import pyplot as plt\n",
    "import numpy as np\n",
    "from tensorflow.keras.preprocessing import image\n",
    "import cv2\n",
    "\n",
    "from tensorflow.keras.models import Sequential\n",
    "from tensorflow.keras.layers import Conv2D,Dense,Flatten,MaxPooling2D\n",
    "\n",
    "from tensorflow.keras.preprocessing.image import ImageDataGenerator"
   ]
  },
  {
   "cell_type": "markdown",
   "metadata": {},
   "source": [
    "Step 2- Loading and Preprocessing"
   ]
  },
  {
   "cell_type": "code",
   "execution_count": 2,
   "metadata": {},
   "outputs": [
    {
     "name": "stdout",
     "output_type": "stream",
     "text": [
      "Found 2600 images belonging to 2 classes.\n",
      "Found 400 images belonging to 2 classes.\n"
     ]
    }
   ],
   "source": [
    "train_datagen = ImageDataGenerator(\n",
    "        rescale=1./255,\n",
    "        shear_range=0.2,\n",
    "        zoom_range=0.2,\n",
    "        horizontal_flip=True)\n",
    "\n",
    "test_datagen = ImageDataGenerator(rescale=1./256)\n",
    "\n",
    "train_generator = train_datagen.flow_from_directory(\n",
    "        'data/training',\n",
    "        target_size=(256, 256),\n",
    "        batch_size=32,\n",
    "        class_mode='binary')\n",
    "\n",
    "validation_generator = test_datagen.flow_from_directory(\n",
    "        'data/test',\n",
    "        target_size=(256, 256),\n",
    "        batch_size=32,\n",
    "        class_mode='binary')"
   ]
  },
  {
   "cell_type": "markdown",
   "metadata": {},
   "source": [
    "Step 3- Building Model"
   ]
  },
  {
   "cell_type": "code",
   "execution_count": 3,
   "metadata": {},
   "outputs": [],
   "source": [
    "# Defining Network\n",
    "model = Sequential()\n",
    "\n",
    "# creating layers\n",
    "model.add(Conv2D(16,1,activation='relu',input_shape=(256,256,3)))\n",
    "model.add(MaxPooling2D())\n",
    "\n",
    "model.add(Conv2D(30,1,activation='relu'))\n",
    "model.add(MaxPooling2D())\n",
    "\n",
    "model.add(Conv2D(20,1,activation='relu'))\n",
    "model.add(MaxPooling2D())\n",
    "\n",
    "model.add(Flatten())\n",
    "model.add(Dense(250,activation='relu'))\n",
    "model.add(Dense(1,activation='sigmoid'))"
   ]
  },
  {
   "cell_type": "code",
   "execution_count": 14,
   "metadata": {},
   "outputs": [
    {
     "name": "stdout",
     "output_type": "stream",
     "text": [
      "Model: \"sequential\"\n",
      "_________________________________________________________________\n",
      " Layer (type)                Output Shape              Param #   \n",
      "=================================================================\n",
      " conv2d (Conv2D)             (None, 256, 256, 16)      64        \n",
      "                                                                 \n",
      " max_pooling2d (MaxPooling2D  (None, 128, 128, 16)     0         \n",
      " )                                                               \n",
      "                                                                 \n",
      " conv2d_1 (Conv2D)           (None, 128, 128, 30)      510       \n",
      "                                                                 \n",
      " max_pooling2d_1 (MaxPooling  (None, 64, 64, 30)       0         \n",
      " 2D)                                                             \n",
      "                                                                 \n",
      " conv2d_2 (Conv2D)           (None, 64, 64, 20)        620       \n",
      "                                                                 \n",
      " max_pooling2d_2 (MaxPooling  (None, 32, 32, 20)       0         \n",
      " 2D)                                                             \n",
      "                                                                 \n",
      " flatten (Flatten)           (None, 20480)             0         \n",
      "                                                                 \n",
      " dense (Dense)               (None, 250)               5120250   \n",
      "                                                                 \n",
      " dense_1 (Dense)             (None, 1)                 251       \n",
      "                                                                 \n",
      "=================================================================\n",
      "Total params: 5,121,695\n",
      "Trainable params: 5,121,695\n",
      "Non-trainable params: 0\n",
      "_________________________________________________________________\n"
     ]
    }
   ],
   "source": [
    "model.summary()"
   ]
  },
  {
   "cell_type": "markdown",
   "metadata": {},
   "source": [
    "Step 4- Training Model"
   ]
  },
  {
   "cell_type": "code",
   "execution_count": 4,
   "metadata": {},
   "outputs": [],
   "source": [
    "# compiling miodel\n",
    "model.compile('adam',loss=tf.losses.BinaryCrossentropy(),metrics=['accuracy'])"
   ]
  },
  {
   "cell_type": "code",
   "execution_count": 5,
   "metadata": {
    "collapsed": true
   },
   "outputs": [
    {
     "name": "stdout",
     "output_type": "stream",
     "text": [
      "Epoch 1/50\n",
      "82/82 [==============================] - ETA: 0s - loss: 0.6912 - accuracy: 0.6650WARNING:tensorflow:Your input ran out of data; interrupting training. Make sure that your dataset or generator can generate at least `steps_per_epoch * epochs` batches (in this case, 800 batches). You may need to use the repeat() function when building your dataset.\n",
      "82/82 [==============================] - 318s 4s/step - loss: 0.6912 - accuracy: 0.6650 - val_loss: 0.5684 - val_accuracy: 0.7375\n",
      "Epoch 2/50\n",
      "82/82 [==============================] - 181s 2s/step - loss: 0.5266 - accuracy: 0.7354\n",
      "Epoch 3/50\n",
      "82/82 [==============================] - 177s 2s/step - loss: 0.5156 - accuracy: 0.7542\n",
      "Epoch 4/50\n",
      "82/82 [==============================] - 184s 2s/step - loss: 0.4714 - accuracy: 0.7785\n",
      "Epoch 5/50\n",
      "82/82 [==============================] - 182s 2s/step - loss: 0.4589 - accuracy: 0.7923\n",
      "Epoch 6/50\n",
      "82/82 [==============================] - 174s 2s/step - loss: 0.4329 - accuracy: 0.7985\n",
      "Epoch 7/50\n",
      "82/82 [==============================] - 174s 2s/step - loss: 0.4374 - accuracy: 0.7996\n",
      "Epoch 8/50\n",
      "82/82 [==============================] - 186s 2s/step - loss: 0.4130 - accuracy: 0.8104\n",
      "Epoch 9/50\n",
      "82/82 [==============================] - 178s 2s/step - loss: 0.4205 - accuracy: 0.8100\n",
      "Epoch 10/50\n",
      "82/82 [==============================] - 214s 3s/step - loss: 0.4067 - accuracy: 0.8096\n",
      "Epoch 11/50\n",
      "82/82 [==============================] - 219s 3s/step - loss: 0.4075 - accuracy: 0.8127\n",
      "Epoch 12/50\n",
      "82/82 [==============================] - 221s 3s/step - loss: 0.3840 - accuracy: 0.8331\n",
      "Epoch 13/50\n",
      "82/82 [==============================] - 187s 2s/step - loss: 0.3520 - accuracy: 0.8358\n",
      "Epoch 14/50\n",
      "82/82 [==============================] - 158s 2s/step - loss: 0.3344 - accuracy: 0.8504\n",
      "Epoch 15/50\n",
      "82/82 [==============================] - 180s 2s/step - loss: 0.3311 - accuracy: 0.8585\n",
      "Epoch 16/50\n",
      "82/82 [==============================] - 171s 2s/step - loss: 0.3253 - accuracy: 0.8638\n",
      "Epoch 17/50\n",
      "82/82 [==============================] - 186s 2s/step - loss: 0.3039 - accuracy: 0.8708\n",
      "Epoch 18/50\n",
      "82/82 [==============================] - 171s 2s/step - loss: 0.3072 - accuracy: 0.8731\n",
      "Epoch 19/50\n",
      "82/82 [==============================] - 171s 2s/step - loss: 0.2813 - accuracy: 0.8808\n",
      "Epoch 20/50\n",
      "82/82 [==============================] - 162s 2s/step - loss: 0.2616 - accuracy: 0.8919\n",
      "Epoch 21/50\n",
      "82/82 [==============================] - 140s 2s/step - loss: 0.2626 - accuracy: 0.8938\n",
      "Epoch 22/50\n",
      "82/82 [==============================] - 161s 2s/step - loss: 0.2563 - accuracy: 0.8973\n",
      "Epoch 23/50\n",
      "82/82 [==============================] - 171s 2s/step - loss: 0.2397 - accuracy: 0.9050\n",
      "Epoch 24/50\n",
      "82/82 [==============================] - 177s 2s/step - loss: 0.2172 - accuracy: 0.9119\n",
      "Epoch 25/50\n",
      "82/82 [==============================] - 174s 2s/step - loss: 0.2152 - accuracy: 0.9138\n",
      "Epoch 26/50\n",
      "82/82 [==============================] - 170s 2s/step - loss: 0.2120 - accuracy: 0.9169\n",
      "Epoch 27/50\n",
      "82/82 [==============================] - 181s 2s/step - loss: 0.2056 - accuracy: 0.9188\n",
      "Epoch 28/50\n",
      "82/82 [==============================] - 172s 2s/step - loss: 0.1918 - accuracy: 0.9246\n",
      "Epoch 29/50\n",
      "82/82 [==============================] - 171s 2s/step - loss: 0.1745 - accuracy: 0.9292\n",
      "Epoch 30/50\n",
      "82/82 [==============================] - 189s 2s/step - loss: 0.1729 - accuracy: 0.9304\n",
      "Epoch 31/50\n",
      "82/82 [==============================] - 179s 2s/step - loss: 0.1628 - accuracy: 0.9392\n",
      "Epoch 32/50\n",
      "82/82 [==============================] - 187s 2s/step - loss: 0.1541 - accuracy: 0.9404\n",
      "Epoch 33/50\n",
      "82/82 [==============================] - 190s 2s/step - loss: 0.1573 - accuracy: 0.9404\n",
      "Epoch 34/50\n",
      "82/82 [==============================] - 221s 3s/step - loss: 0.1340 - accuracy: 0.9496\n",
      "Epoch 35/50\n",
      "82/82 [==============================] - 298s 4s/step - loss: 0.1324 - accuracy: 0.9508\n",
      "Epoch 36/50\n",
      "82/82 [==============================] - 278s 3s/step - loss: 0.1374 - accuracy: 0.9469\n",
      "Epoch 37/50\n",
      "82/82 [==============================] - 199s 2s/step - loss: 0.1236 - accuracy: 0.9546\n",
      "Epoch 38/50\n",
      "82/82 [==============================] - 162s 2s/step - loss: 0.1073 - accuracy: 0.9635\n",
      "Epoch 39/50\n",
      "82/82 [==============================] - 172s 2s/step - loss: 0.1110 - accuracy: 0.9585\n",
      "Epoch 40/50\n",
      "82/82 [==============================] - 160s 2s/step - loss: 0.1175 - accuracy: 0.9535\n",
      "Epoch 41/50\n",
      "82/82 [==============================] - 160s 2s/step - loss: 0.0919 - accuracy: 0.9662\n",
      "Epoch 42/50\n",
      "82/82 [==============================] - 161s 2s/step - loss: 0.1036 - accuracy: 0.9635\n",
      "Epoch 43/50\n",
      "82/82 [==============================] - 166s 2s/step - loss: 0.0909 - accuracy: 0.9712\n",
      "Epoch 44/50\n",
      "82/82 [==============================] - 170s 2s/step - loss: 0.0938 - accuracy: 0.9681\n",
      "Epoch 45/50\n",
      "82/82 [==============================] - 172s 2s/step - loss: 0.0823 - accuracy: 0.9738\n",
      "Epoch 46/50\n",
      "82/82 [==============================] - 186s 2s/step - loss: 0.0918 - accuracy: 0.9669\n",
      "Epoch 47/50\n",
      "82/82 [==============================] - 171s 2s/step - loss: 0.0943 - accuracy: 0.9665\n",
      "Epoch 48/50\n",
      "82/82 [==============================] - 170s 2s/step - loss: 0.0875 - accuracy: 0.9685\n",
      "Epoch 49/50\n",
      "82/82 [==============================] - 171s 2s/step - loss: 0.0717 - accuracy: 0.9731\n",
      "Epoch 50/50\n",
      "82/82 [==============================] - 185s 2s/step - loss: 0.0826 - accuracy: 0.9692\n"
     ]
    }
   ],
   "source": [
    "hist = model.fit(train_generator,\n",
    "                epochs=50,\n",
    "                validation_data=validation_generator,\n",
    "                validation_steps=800)"
   ]
  },
  {
   "cell_type": "code",
   "execution_count": 6,
   "metadata": {
    "collapsed": true
   },
   "outputs": [
    {
     "data": {
      "text/plain": [
       "{'loss': [0.6911566853523254,\n",
       "  0.5265653729438782,\n",
       "  0.5155909061431885,\n",
       "  0.47139668464660645,\n",
       "  0.4589277505874634,\n",
       "  0.43285873532295227,\n",
       "  0.43740639090538025,\n",
       "  0.41295358538627625,\n",
       "  0.42050987482070923,\n",
       "  0.4066885709762573,\n",
       "  0.407503604888916,\n",
       "  0.38395360112190247,\n",
       "  0.3519507944583893,\n",
       "  0.3343791365623474,\n",
       "  0.33110180497169495,\n",
       "  0.3253078758716583,\n",
       "  0.30387163162231445,\n",
       "  0.3072308301925659,\n",
       "  0.2813335657119751,\n",
       "  0.2616458535194397,\n",
       "  0.26264405250549316,\n",
       "  0.2562777101993561,\n",
       "  0.23971949517726898,\n",
       "  0.21718451380729675,\n",
       "  0.21521693468093872,\n",
       "  0.21199415624141693,\n",
       "  0.20562520623207092,\n",
       "  0.1918374001979828,\n",
       "  0.1745111495256424,\n",
       "  0.17292450368404388,\n",
       "  0.16281302273273468,\n",
       "  0.1541200429201126,\n",
       "  0.15728099644184113,\n",
       "  0.13397587835788727,\n",
       "  0.13239820301532745,\n",
       "  0.13740259408950806,\n",
       "  0.12355910241603851,\n",
       "  0.10728146880865097,\n",
       "  0.11104845255613327,\n",
       "  0.11754006892442703,\n",
       "  0.09191717952489853,\n",
       "  0.10359513759613037,\n",
       "  0.09093625098466873,\n",
       "  0.09378421306610107,\n",
       "  0.08228939026594162,\n",
       "  0.09179316461086273,\n",
       "  0.09426034241914749,\n",
       "  0.08748976141214371,\n",
       "  0.07171346247196198,\n",
       "  0.08264850080013275],\n",
       " 'accuracy': [0.6650000214576721,\n",
       "  0.7353846430778503,\n",
       "  0.754230797290802,\n",
       "  0.7784615159034729,\n",
       "  0.7923076748847961,\n",
       "  0.7984615564346313,\n",
       "  0.7996153831481934,\n",
       "  0.8103846311569214,\n",
       "  0.8100000023841858,\n",
       "  0.8096153736114502,\n",
       "  0.8126922845840454,\n",
       "  0.8330768942832947,\n",
       "  0.8357692360877991,\n",
       "  0.8503845930099487,\n",
       "  0.8584615588188171,\n",
       "  0.8638461828231812,\n",
       "  0.870769202709198,\n",
       "  0.8730769157409668,\n",
       "  0.8807692527770996,\n",
       "  0.8919230699539185,\n",
       "  0.8938461542129517,\n",
       "  0.8973076939582825,\n",
       "  0.9049999713897705,\n",
       "  0.9119230508804321,\n",
       "  0.9138461351394653,\n",
       "  0.9169231057167053,\n",
       "  0.9188461303710938,\n",
       "  0.9246153831481934,\n",
       "  0.9292307496070862,\n",
       "  0.930384635925293,\n",
       "  0.939230740070343,\n",
       "  0.9403846263885498,\n",
       "  0.9403846263885498,\n",
       "  0.9496153593063354,\n",
       "  0.9507692456245422,\n",
       "  0.9469230771064758,\n",
       "  0.9546154141426086,\n",
       "  0.9634615182876587,\n",
       "  0.9584615230560303,\n",
       "  0.9534615278244019,\n",
       "  0.9661538600921631,\n",
       "  0.9634615182876587,\n",
       "  0.9711538553237915,\n",
       "  0.9680769443511963,\n",
       "  0.9738461375236511,\n",
       "  0.9669230580329895,\n",
       "  0.9665384888648987,\n",
       "  0.9684615135192871,\n",
       "  0.9730769395828247,\n",
       "  0.9692307710647583],\n",
       " 'val_loss': [0.5684346556663513],\n",
       " 'val_accuracy': [0.737500011920929]}"
      ]
     },
     "execution_count": 6,
     "metadata": {},
     "output_type": "execute_result"
    }
   ],
   "source": [
    "hist.history"
   ]
  },
  {
   "cell_type": "markdown",
   "metadata": {},
   "source": [
    "Step 5- Checking Performance"
   ]
  },
  {
   "cell_type": "code",
   "execution_count": 8,
   "metadata": {},
   "outputs": [
    {
     "data": {
      "image/png": "[encoded data removed]",
      "text/plain": [
       "<Figure size 432x288 with 1 Axes>"
      ]
     },
     "metadata": {
      "needs_background": "light"
     },
     "output_type": "display_data"
    }
   ],
   "source": [
    "# checking losses \n",
    "fig = plt.figure()\n",
    "plt.plot(hist.history['loss'],color='teal',label='loss')\n",
    "plt.plot(hist.history['accuracy'],color='orange',label='accuracy')\n",
    "plt.show()"
   ]
  },
  {
   "cell_type": "markdown",
   "metadata": {},
   "source": [
    "Step 6- Prediction"
   ]
  },
  {
   "cell_type": "code",
   "execution_count": 12,
   "metadata": {},
   "outputs": [
    {
     "name": "stdout",
     "output_type": "stream",
     "text": [
      "You Don't have Brain Tumor\n"
     ]
    }
   ],
   "source": [
    "# checking prediction if model is working or not \n",
    "test_image = image.load_img('data/Test/no/no103.jpg') # no folder mean not Brain Tumor\n",
    "test_image = image.img_to_array(test_image)\n",
    "\n",
    "test_image = cv2.resize(test_image,(256,256))\n",
    "\n",
    "test_image = np.expand_dims(test_image,axis=0)\n",
    "pred = model.predict(test_image)\n",
    "if pred[0][0] == 0:\n",
    "    print(\"You Don't have Brain Tumor\")\n",
    "else:\n",
    "    print('You are a Brain Tumor Patient')"
   ]
  },
  {
   "cell_type": "markdown",
   "metadata": {},
   "source": [
    "Step 7- Save The Model"
   ]
  },
  {
   "cell_type": "code",
   "execution_count": 15,
   "metadata": {},
   "outputs": [],
   "source": [
    "# saving Model \n",
    "model.save('BrainTumorClassification.h5')"
   ]
  },
  {
   "cell_type": "code",
   "execution_count": null,
   "metadata": {},
   "outputs": [],
   "source": [
    "# delete the existing model\n",
    "# del model"
   ]
  },
  {
   "cell_type": "markdown",
   "metadata": {},
   "source": [
    "Step 8- Load Model"
   ]
  },
  {
   "cell_type": "code",
   "execution_count": 18,
   "metadata": {},
   "outputs": [],
   "source": [
    "# Loading The save Model with a new name\n",
    "new_model = tf.keras.models.load_model('BrainTumorClassification.h5')"
   ]
  },
  {
   "cell_type": "markdown",
   "metadata": {},
   "source": [
    "Step 9- Prediction of Saved Model"
   ]
  },
  {
   "cell_type": "code",
   "execution_count": 19,
   "metadata": {},
   "outputs": [
    {
     "name": "stdout",
     "output_type": "stream",
     "text": [
      "You are a Brain Tumor Patient\n"
     ]
    }
   ],
   "source": [
    "# checking prediction if model is working or not \n",
    "test_image = image.load_img('data/Test/yes/y102.jpg') # yes folder mean Brain Tumor\n",
    "test_image = image.img_to_array(test_image)\n",
    "\n",
    "test_image = cv2.resize(test_image,(256,256))\n",
    "\n",
    "test_image = np.expand_dims(test_image,axis=0)\n",
    "pred = model.predict(test_image)\n",
    "if pred[0][0] == 0:\n",
    "    print(\"You Don't have Brain Tumor\")\n",
    "else:\n",
    "    print('You are a Brain Tumor Patient')"
   ]
  }
 ],
 "metadata": {
  "interpreter": {
   "hash": "674ee1f1d3ac75c299f5d6dc1161960f02fafc1831377fa93ab9d0e0e852eae6"
  },
  "kernelspec": {
   "display_name": "Python 3 (ipykernel)",
   "language": "python",
   "name": "python3"
  },
  "language_info": {
   "codemirror_mode": {
    "name": "ipython",
    "version": 3
   },
   "file_extension": ".py",
   "mimetype": "text/x-python",
   "name": "python",
   "nbconvert_exporter": "python",
   "pygments_lexer": "ipython3",
   "version": "3.10.2"
  }
 },
 "nbformat": 4,
 "nbformat_minor": 2
}

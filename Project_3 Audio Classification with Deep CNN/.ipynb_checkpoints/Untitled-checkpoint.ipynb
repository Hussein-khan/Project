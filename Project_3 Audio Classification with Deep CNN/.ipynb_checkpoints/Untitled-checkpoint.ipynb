{
 "cells": [
  {
   "cell_type": "code",
   "execution_count": 7,
   "id": "6bb96929",
   "metadata": {},
   "outputs": [],
   "source": [
    "import tensorflow as tf\n",
    "import numpy as np\n",
    "import pandas as pd\n",
    "import tensorflow_io as tfio\n",
    "import os "
   ]
  },
  {
   "cell_type": "code",
   "execution_count": 8,
   "id": "c28845b4",
   "metadata": {
    "scrolled": true
   },
   "outputs": [],
   "source": [
    "fl1 = 'UrbanSound8K/audio/fold1/'\n",
    "fl2 = 'UrbanSound8K/audio/fold1/'\n",
    "fl3 = 'UrbanSound8K/audio/fold1/'\n",
    "fl4 = 'UrbanSound8K/audio/fold1/'\n",
    "fl5 = 'UrbanSound8K/audio/fold1/'\n",
    "fl6 = 'UrbanSound8K/audio/fold1/'\n",
    "fl7 = 'UrbanSound8K/audio/fold1/'\n",
    "fl8 = 'UrbanSound8K/audio/fold1/'\n",
    "fl9 = 'UrbanSound8K/audio/fold1/'\n",
    "fl10 = 'UrbanSound8K/audio/fold1/'"
   ]
  },
  {
   "cell_type": "code",
   "execution_count": 9,
   "id": "bd9a1f7f",
   "metadata": {},
   "outputs": [],
   "source": [
    "def load(file):\n",
    "    #load data \n",
    "    file = tf.io.read_file(filel)\n",
    "    #decode file\n",
    "    wav,sample = tf.audio.decode_wav(file,desired_channels=1)\n",
    "    #remove trailing\n",
    "    wav = tf.squeeze(wavv,axis=-1)\n",
    "    sample = tf.cast(sample,dtype=tf.int64)\n",
    "    #reduce amplitude \n",
    "    wav = tfio.audio.resample(wav,rate_in=sample,rate_out=16000)\n",
    "    return wav"
   ]
  },
  {
   "cell_type": "code",
   "execution_count": 12,
   "id": "fb7dbf6b",
   "metadata": {},
   "outputs": [],
   "source": [
    "fl_1 = tf.data.Dataset.list_files(fl1+'*.wav')\n",
    "fl_2 = tf.data.Dataset.list_files(fl2+'*.wav')\n",
    "fl_3 = tf.data.Dataset.list_files(fl3+'*.wav')\n",
    "fl_4 = tf.data.Dataset.list_files(fl4+'*.wav')\n",
    "fl_5 = tf.data.Dataset.list_files(fl5+'*.wav')\n",
    "fl_6 = tf.data.Dataset.list_files(fl6+'*.wav')\n",
    "fl_7 = tf.data.Dataset.list_files(fl7+'*.wav')\n",
    "fl_8 = tf.data.Dataset.list_files(fl8+'*.wav')\n",
    "fl_9 = tf.data.Dataset.list_files(fl9+'*.wav')\n",
    "fl_10 = tf.data.Dataset.list_files(fl10+'*.wav')"
   ]
  },
  {
   "cell_type": "code",
   "execution_count": 15,
   "id": "ee968150",
   "metadata": {},
   "outputs": [],
   "source": [
    "file1 = tf.data.Dataset.zip((fl_1,tf.data.Dataset.from_tensor_slices(tf.zeros(len(fl_1)))))\n",
    "file2 = tf.data.Dataset.zip((fl_2,tf.data.Dataset.from_tensor_slices(tf.ones(len(fl_2)))))\n",
    "file3 = tf.data.Dataset.zip((fl_3,tf.data.Dataset.from_tensor_slices(np.full(len(fl_3),2))))\n",
    "file4 = tf.data.Dataset.zip((fl_4,tf.data.Dataset.from_tensor_slices(np.full(len(fl_4),3))))\n",
    "file5 = tf.data.Dataset.zip((fl_5,tf.data.Dataset.from_tensor_slices(np.full(len(fl_5),4))))\n",
    "file6 = tf.data.Dataset.zip((fl_6,tf.data.Dataset.from_tensor_slices(np.full(len(fl_6),5))))\n",
    "file7 = tf.data.Dataset.zip((fl_7,tf.data.Dataset.from_tensor_slices(np.full(len(fl_7),6))))\n",
    "file8 = tf.data.Dataset.zip((fl_8,tf.data.Dataset.from_tensor_slices(np.full(len(fl_8),7))))\n",
    "file9 = tf.data.Dataset.zip((fl_9,tf.data.Dataset.from_tensor_slices(np.full(len(fl_9),8))))\n",
    "file10 = tf.data.Dataset.zip((fl_10,tf.data.Dataset.from_tensor_slices(np.full(len(fl_10),9))))"
   ]
  },
  {
   "cell_type": "code",
   "execution_count": 52,
   "id": "c1283825",
   "metadata": {},
   "outputs": [
    {
     "data": {
      "text/plain": [
       "'UrbanSound8K\\\\audio\\\\fold1'"
      ]
     },
     "execution_count": 52,
     "metadata": {},
     "output_type": "execute_result"
    }
   ],
   "source": [
    "path"
   ]
  },
  {
   "cell_type": "code",
   "execution_count": 76,
   "id": "fcee90dd",
   "metadata": {},
   "outputs": [],
   "source": [
    "name = []\n",
    "for file in os.listdir(path):\n",
    "    name.append(file)"
   ]
  },
  {
   "cell_type": "code",
   "execution_count": 85,
   "id": "d238cb9d",
   "metadata": {},
   "outputs": [
    {
     "data": {
      "text/plain": [
       "'.DS_Store'"
      ]
     },
     "execution_count": 85,
     "metadata": {},
     "output_type": "execute_result"
    }
   ],
   "source": [
    "name[0]"
   ]
  },
  {
   "cell_type": "code",
   "execution_count": null,
   "id": "2b73d82e",
   "metadata": {},
   "outputs": [],
   "source": []
  }
 ],
 "metadata": {
  "kernelspec": {
   "display_name": "Python 3 (ipykernel)",
   "language": "python",
   "name": "python3"
  },
  "language_info": {
   "codemirror_mode": {
    "name": "ipython",
    "version": 3
   },
   "file_extension": ".py",
   "mimetype": "text/x-python",
   "name": "python",
   "nbconvert_exporter": "python",
   "pygments_lexer": "ipython3",
   "version": "3.10.2"
  }
 },
 "nbformat": 4,
 "nbformat_minor": 5
}
